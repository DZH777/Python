{
 "cells": [
  {
   "cell_type": "markdown",
   "metadata": {},
   "source": [
    "### Python module/package imports for this chapter"
   ]
  },
  {
   "cell_type": "code",
   "execution_count": 1,
   "metadata": {},
   "outputs": [],
   "source": [
    "import sys, os, math, random, functools\n",
    "\n",
    "import numpy as np\n",
    "\n",
    "import matplotlib\n",
    "import matplotlib.pyplot as pp\n",
    "import matplotlib.animation as anim\n",
    "\n",
    "%matplotlib inline\n",
    "\n",
    "from IPython.display import display, HTML"
   ]
  },
  {
   "cell_type": "markdown",
   "metadata": {
    "collapsed": true
   },
   "source": [
    "## Making Python classes"
   ]
  },
  {
   "cell_type": "code",
   "execution_count": 2,
   "metadata": {},
   "outputs": [],
   "source": [
    "class Turtle(object):\n",
    "    deg = math.pi / 180.0\n",
    "    \n",
    "    def __init__(self):\n",
    "        self.pos = (0,0)\n",
    "        self.angle = 0\n",
    "        self.pen = True\n",
    "    \n",
    "    def forward(self, distance):\n",
    "        posnew = (self.pos[0] + distance * math.cos(self.deg * self.angle),\n",
    "                  self.pos[1] + distance * math.sin(self.deg * self.angle))\n",
    "        if sel.pen:\n",
    "            pass\n",
    "        \n",
    "        self.pos = osnew\n",
    "    \n",
    "    def left(self, angle):\n",
    "        self.angle = (self.angle + angle) % 360\n",
    "    \n",
    "    def reght(self, angle):\n",
    "        self.angle = (self.angle - angle) % 360\n",
    "    \n",
    "    def penup(self):\n",
    "        self.pen = False\n",
    "    \n",
    "    def pendown(self):\n",
    "        self.pen = True\n",
    "\n",
    "    \n",
    "class Terrarium(object):\n",
    "    def __init__(self):\n",
    "        pass"
   ]
  },
  {
   "cell_type": "code",
   "execution_count": 7,
   "metadata": {},
   "outputs": [
    {
     "data": {
      "text/plain": [
       "[]"
      ]
     },
     "execution_count": 7,
     "metadata": {},
     "output_type": "execute_result"
    },
    {
     "data": {
      "image/png": "[encoded data removed]",
      "text/plain": [
       "<Figure size 216x216 with 1 Axes>"
      ]
     },
     "metadata": {},
     "output_type": "display_data"
    }
   ],
   "source": [
    "fig = pp.figure(figsize=(3,3))\n",
    "axes = pp.axes()\n",
    "\n",
    "line = pp.Line2D((0,1),(0.5, 0.25))\n",
    "axes.add_line(line)\n",
    "\n",
    "axes.set_xticks([])\n",
    "axes.set_yticks([])"
   ]
  },
  {
   "cell_type": "code",
   "execution_count": null,
   "metadata": {},
   "outputs": [],
   "source": []
  }
 ],
 "metadata": {
  "anaconda-cloud": {},
  "kernelspec": {
   "display_name": "Python 3",
   "language": "python",
   "name": "python3"
  },
  "language_info": {
   "codemirror_mode": {
    "name": "ipython",
    "version": 3
   },
   "file_extension": ".py",
   "mimetype": "text/x-python",
   "name": "python",
   "nbconvert_exporter": "python",
   "pygments_lexer": "ipython3",
   "version": "3.7.4"
  }
 },
 "nbformat": 4,
 "nbformat_minor": 1
}
