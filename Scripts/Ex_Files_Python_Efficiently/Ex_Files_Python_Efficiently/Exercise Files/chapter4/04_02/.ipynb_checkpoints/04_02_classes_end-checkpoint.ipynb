{
 "cells": [
  {
   "cell_type": "markdown",
   "metadata": {},
   "source": [
    "### Python module/package imports for this chapter"
   ]
  },
  {
   "cell_type": "code",
   "execution_count": 3,
   "metadata": {},
   "outputs": [],
   "source": [
    "import sys, os, math, random, functools\n",
    "\n",
    "import numpy as np\n",
    "\n",
    "import matplotlib\n",
    "import matplotlib.pyplot as pp\n",
    "import matplotlib.animation as anim\n",
    "\n",
    "%matplotlib inline\n",
    "\n",
    "from IPython.display import display, HTML"
   ]
  },
  {
   "cell_type": "markdown",
   "metadata": {
    "collapsed": true
   },
   "source": [
    "## Making Python classes"
   ]
  },
  {
   "cell_type": "code",
   "execution_count": 4,
   "metadata": {},
   "outputs": [],
   "source": [
    "class Turtle(object):\n",
    "    deg = math.pi / 180.0\n",
    "    \n",
    "    def __init__(self):\n",
    "        self.pos = (0,0)\n",
    "        self.angle = 0\n",
    "        self.pen = True\n",
    "    \n",
    "    def forward(self,distance):\n",
    "        posnew = (self.pos[0] + distance * math.cos(self.deg * self.angle),\n",
    "                  self.pos[1] + distance * math.sin(self.deg * self.angle))\n",
    "    \n",
    "        if self.pen:\n",
    "            pass\n",
    "        \n",
    "        self.pos = posnew\n",
    "    \n",
    "    def left(self,angle):\n",
    "        self.angle = (self.angle + angle) % 360\n",
    "    \n",
    "    def right(self,angle):\n",
    "        self.angle = (self.angle - angle) % 360\n",
    "    \n",
    "    def penup(self):\n",
    "        self.pen = False\n",
    "    \n",
    "    def pendown(self):\n",
    "        self.pen = True\n",
    "    \n",
    "class Terrarium(object):\n",
    "    def __init__(self):\n",
    "        pass    "
   ]
  },
  {
   "cell_type": "code",
   "execution_count": 5,
   "metadata": {},
   "outputs": [
    {
     "data": {
      "text/plain": [
       "[-0.07200000000000001, 1.072, 0.2155, 0.5345]"
      ]
     },
     "execution_count": 5,
     "metadata": {},
     "output_type": "execute_result"
    },
    {
     "data": {
      "image/png": "[encoded data removed]",
      "text/plain": [
       "<Figure size 216x216 with 1 Axes>"
      ]
     },
     "metadata": {},
     "output_type": "display_data"
    }
   ],
   "source": [
    "fig = pp.figure(figsize=(3,3))\n",
    "axes = pp.axes()\n",
    "\n",
    "line = pp.Line2D((0,1),(0.5,0.25))\n",
    "axes.add_line(line)\n",
    "\n",
    "axes.set_xticks([])\n",
    "axes.set_yticks([])\n",
    "\n",
    "for spine in ['bottom','top','left','right']:\n",
    "    axes.spines[spine].set_color('0.9')\n",
    "    \n",
    "axes.axis('scaled')\n",
    "\n",
    "xmin, xmax, ymin, ymax = axes.axis()\n",
    "dx = (xmax - xmin) / 50\n",
    "axes.axis([xmin-dx,xmax+dx,ymin-dx,ymax+dx])"
   ]
  },
  {
   "cell_type": "code",
   "execution_count": 6,
   "metadata": {
    "collapsed": true
   },
   "outputs": [],
   "source": [
    "class Terrarium(object):\n",
    "    def __init__(self):\n",
    "        self.fig = pp.figure(figsize=(3,3))\n",
    "        self.axes = pp.axes()\n",
    "\n",
    "        self.axes.set_xticks([])\n",
    "        self.axes.set_yticks([])\n",
    "\n",
    "        for spine in ['bottom','top','left','right']:\n",
    "            self.axes.spines[spine].set_color('0.9')\n",
    "\n",
    "    def rescale(self):\n",
    "        self.axes.axis('scaled')\n",
    "\n",
    "        xmin, xmax, ymin, ymax = self.axes.axis()\n",
    "        dx = (xmax - xmin) / 50\n",
    "        self.axes.axis([xmin-dx,xmax+dx,ymin-dx,ymax+dx])        "
   ]
  },
  {
   "cell_type": "code",
   "execution_count": 11,
   "metadata": {
    "collapsed": true
   },
   "outputs": [],
   "source": [
    "class Turtle(object):\n",
    "    deg = math.pi / 180.0\n",
    "    \n",
    "    def __init__(self,terrarium):\n",
    "        self.pos = (0,0)\n",
    "        self.angle = 0\n",
    "        self.pen = True\n",
    "        \n",
    "        self.axes = terrarium.axes\n",
    "    \n",
    "    def forward(self,distance):\n",
    "        posnew = (self.pos[0] + distance * math.cos(self.deg * self.angle),\n",
    "                  self.pos[1] + distance * math.sin(self.deg * self.angle))\n",
    "    \n",
    "        if self.pen:\n",
    "            line = pp.Line2D((self.pos[0],posnew[0]),(self.pos[1],posnew[1]))\n",
    "            self.axes.add_line(line)\n",
    "        \n",
    "        self.pos = posnew\n",
    "    \n",
    "    def back(self,distance):\n",
    "        self.forward(-distance)\n",
    "    \n",
    "    def left(self,angle):\n",
    "        self.angle = (self.angle + angle) % 360\n",
    "    \n",
    "    def right(self,angle):\n",
    "        self.angle = (self.angle - angle) % 360\n",
    "    \n",
    "    def penup(self):\n",
    "        self.pen = False\n",
    "    \n",
    "    def pendown(self):\n",
    "        self.pen = True"
   ]
  },
  {
   "cell_type": "code",
   "execution_count": 12,
   "metadata": {},
   "outputs": [
    {
     "data": {
      "image/png": "[encoded data removed]",
      "text/plain": [
       "<matplotlib.figure.Figure at 0x11414c860>"
      ]
     },
     "metadata": {},
     "output_type": "display_data"
    }
   ],
   "source": [
    "t = Terrarium()\n",
    "\n",
    "t1 = Turtle(t)\n",
    "\n",
    "t1.forward(100)\n",
    "t1.left(90)\n",
    "t1.forward(150)\n",
    "t1.right(45)\n",
    "t1.back(100)\n",
    "\n",
    "t.rescale()"
   ]
  },
  {
   "cell_type": "code",
   "execution_count": null,
   "metadata": {
    "collapsed": true
   },
   "outputs": [],
   "source": []
  }
 ],
 "metadata": {
  "anaconda-cloud": {},
  "kernelspec": {
   "display_name": "Python 3",
   "language": "python",
   "name": "python3"
  },
  "language_info": {
   "codemirror_mode": {
    "name": "ipython",
    "version": 3
   },
   "file_extension": ".py",
   "mimetype": "text/x-python",
   "name": "python",
   "nbconvert_exporter": "python",
   "pygments_lexer": "ipython3",
   "version": "3.7.4"
  }
 },
 "nbformat": 4,
 "nbformat_minor": 1
}
