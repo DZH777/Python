{
 "cells": [
  {
   "cell_type": "markdown",
   "metadata": {
    "collapsed": true
   },
   "source": [
    "### Python module/package imports for this chapter"
   ]
  },
  {
   "cell_type": "code",
   "execution_count": 1,
   "metadata": {},
   "outputs": [],
   "source": [
    "import math, json, collections, itertools"
   ]
  },
  {
   "cell_type": "code",
   "execution_count": 2,
   "metadata": {},
   "outputs": [],
   "source": [
    "import numpy as np\n",
    "import matplotlib.pyplot as pp\n",
    "%matplotlib inline"
   ]
  },
  {
   "cell_type": "code",
   "execution_count": 3,
   "metadata": {},
   "outputs": [],
   "source": [
    "from mpl_toolkits.basemap import Basemap\n",
    "import geopy"
   ]
  },
  {
   "cell_type": "markdown",
   "metadata": {},
   "source": [
    "## Beyond lists, dicts, and sets: more powerful collections"
   ]
  },
  {
   "cell_type": "code",
   "execution_count": 6,
   "metadata": {},
   "outputs": [
    {
     "name": "stdout",
     "output_type": "stream",
     "text": [
      "['1896\\tThomas Burke\\tUSA\\t100m men\\n', '1896\\tThomas Curtis\\tUSA\\t110m hurdles men\\n', '1896\\tEdwin Flack\\tAUS\\t1500m men\\n', '1896\\tThomas Burke\\tUSA\\t400m men\\n', '1896\\tEdwin Flack\\tAUS\\t800m men\\n', '1896\\tRobert Garrett\\tUSA\\tdiscus throw men\\n', '1896\\tEllery Clark\\tUSA\\thigh jump men\\n', '1896\\tEllery Clark\\tUSA\\tlong jump men\\n', '1896\\tSpyridon Louis\\tGRE\\tmarathon men\\n', '1896\\tWilliam Welles Hoyt\\tUSA\\tpole vault men\\n']\n"
     ]
    }
   ],
   "source": [
    "with open('goldmedals.txt','r') as f:\n",
    "    print(f.readlines()[:10])"
   ]
  },
  {
   "cell_type": "code",
   "execution_count": null,
   "metadata": {},
   "outputs": [],
   "source": []
  }
 ],
 "metadata": {
  "anaconda-cloud": {},
  "kernelspec": {
   "display_name": "Python 3",
   "language": "python",
   "name": "python3"
  },
  "language_info": {
   "codemirror_mode": {
    "name": "ipython",
    "version": 3
   },
   "file_extension": ".py",
   "mimetype": "text/x-python",
   "name": "python",
   "nbconvert_exporter": "python",
   "pygments_lexer": "ipython3",
   "version": "3.7.4"
  }
 },
 "nbformat": 4,
 "nbformat_minor": 1
}
